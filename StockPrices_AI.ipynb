{
  "nbformat": 4,
  "nbformat_minor": 0,
  "metadata": {
    "colab": {
      "name": "StockPrices-AI.ipynb",
      "provenance": [],
      "collapsed_sections": []
    },
    "kernelspec": {
      "name": "python3",
      "display_name": "Python 3"
    },
    "language_info": {
      "name": "python"
    }
  },
  "cells": [
    {
      "cell_type": "markdown",
      "metadata": {
        "id": "t9FxtnzjKkhT"
      },
      "source": [
        "##Usaremos Inteligência Artificial memória de curto prazo longa (Long short-term memory) - LSTM para prever dados de ações usando os últimos 60 dias...\n",
        "\n"
      ]
    },
    {
      "cell_type": "code",
      "metadata": {
        "id": "gEvNiKVfMmsd",
        "colab": {
          "base_uri": "https://localhost:8080/"
        },
        "outputId": "2803668b-73e6-47fc-c146-610ff1e47ae5"
      },
      "source": [
        "!pip install --upgrade pip\n",
        "!pip install --upgrade pandas\n",
        "!pip install --upgrade pandas-datareader"
      ],
      "execution_count": 1,
      "outputs": [
        {
          "output_type": "stream",
          "name": "stdout",
          "text": [
            "Requirement already satisfied: pip in /usr/local/lib/python3.7/dist-packages (21.3.1)\n",
            "\u001b[33mWARNING: Running pip as the 'root' user can result in broken permissions and conflicting behaviour with the system package manager. It is recommended to use a virtual environment instead: https://pip.pypa.io/warnings/venv\u001b[0m\n",
            "Requirement already satisfied: pandas in /usr/local/lib/python3.7/dist-packages (1.3.5)\n",
            "Requirement already satisfied: numpy>=1.17.3 in /usr/local/lib/python3.7/dist-packages (from pandas) (1.19.5)\n",
            "Requirement already satisfied: python-dateutil>=2.7.3 in /usr/local/lib/python3.7/dist-packages (from pandas) (2.8.2)\n",
            "Requirement already satisfied: pytz>=2017.3 in /usr/local/lib/python3.7/dist-packages (from pandas) (2018.9)\n",
            "Requirement already satisfied: six>=1.5 in /usr/local/lib/python3.7/dist-packages (from python-dateutil>=2.7.3->pandas) (1.15.0)\n",
            "\u001b[33mWARNING: Running pip as the 'root' user can result in broken permissions and conflicting behaviour with the system package manager. It is recommended to use a virtual environment instead: https://pip.pypa.io/warnings/venv\u001b[0m\n",
            "Requirement already satisfied: pandas-datareader in /usr/local/lib/python3.7/dist-packages (0.10.0)\n",
            "Requirement already satisfied: lxml in /usr/local/lib/python3.7/dist-packages (from pandas-datareader) (4.2.6)\n",
            "Requirement already satisfied: requests>=2.19.0 in /usr/local/lib/python3.7/dist-packages (from pandas-datareader) (2.23.0)\n",
            "Requirement already satisfied: pandas>=0.23 in /usr/local/lib/python3.7/dist-packages (from pandas-datareader) (1.3.5)\n",
            "Requirement already satisfied: python-dateutil>=2.7.3 in /usr/local/lib/python3.7/dist-packages (from pandas>=0.23->pandas-datareader) (2.8.2)\n",
            "Requirement already satisfied: numpy>=1.17.3 in /usr/local/lib/python3.7/dist-packages (from pandas>=0.23->pandas-datareader) (1.19.5)\n",
            "Requirement already satisfied: pytz>=2017.3 in /usr/local/lib/python3.7/dist-packages (from pandas>=0.23->pandas-datareader) (2018.9)\n",
            "Requirement already satisfied: urllib3!=1.25.0,!=1.25.1,<1.26,>=1.21.1 in /usr/local/lib/python3.7/dist-packages (from requests>=2.19.0->pandas-datareader) (1.24.3)\n",
            "Requirement already satisfied: chardet<4,>=3.0.2 in /usr/local/lib/python3.7/dist-packages (from requests>=2.19.0->pandas-datareader) (3.0.4)\n",
            "Requirement already satisfied: certifi>=2017.4.17 in /usr/local/lib/python3.7/dist-packages (from requests>=2.19.0->pandas-datareader) (2021.10.8)\n",
            "Requirement already satisfied: idna<3,>=2.5 in /usr/local/lib/python3.7/dist-packages (from requests>=2.19.0->pandas-datareader) (2.10)\n",
            "Requirement already satisfied: six>=1.5 in /usr/local/lib/python3.7/dist-packages (from python-dateutil>=2.7.3->pandas>=0.23->pandas-datareader) (1.15.0)\n",
            "\u001b[33mWARNING: Running pip as the 'root' user can result in broken permissions and conflicting behaviour with the system package manager. It is recommended to use a virtual environment instead: https://pip.pypa.io/warnings/venv\u001b[0m\n"
          ]
        }
      ]
    },
    {
      "cell_type": "code",
      "metadata": {
        "colab": {
          "base_uri": "https://localhost:8080/",
          "height": 455
        },
        "id": "6lzKz4vCaIpX",
        "outputId": "3be8c710-a867-4669-cf43-2cb7bf6094d1"
      },
      "source": [
        "import pandas as pd\n",
        "import pandas_datareader.data as pdr\n",
        "from datetime import datetime, timedelta \n",
        "import numpy as np\n",
        "\n",
        "\n",
        "start = datetime(2009 , 7 ,1)\n",
        "end = datetime(2022, 1 , 18)\n",
        "\n",
        "\n",
        "#veremos o close de todos os ativos e analisaremos as melhores apreciações\n",
        "lista_ativos = ['CBK.DE', 'PFE', 'TSLA', 'QCOM', 'NVDA', 'AMD', 'AMZN', 'ZM', 'XOM', 'WMT', 'WBA', 'VOW3.DE', 'VOD', 'VIAC', 'V', 'UNA.AS', 'UBER',\n",
        "                'TWTR', 'AMC', 'CL=F', 'BABA', 'FB', 'MKS.L', 'BHP', 'RACE', 'MA', 'MELI', 'VALE3.SA', 'PETR4.SA', 'CVCB3.SA', 'BTC-USD', 'ETH-USD',\n",
        "                'iau', 'DIS', 'MSFT', 'NRGU', 'GOOG', 'HEI-A', 'PEP', 'MOLN', 'BRK-B', 'CSCO']\n",
        "#correspondências\n",
        "#commmerzbank(0), Pfizer(1), Tesla(2), Qualcomm(3), Nvidia(4), AMD(5), Amazon(6), Zoom(7), Exxon Mobil(8), Walmart(9), WalgreenBoots(10), Volks(11), Vodafone(12),\n",
        "#Viacom(13), Visa(14), Unilever(15), Uber(16), Twitter(17), AMC(18), Oil(19), Alibaba(20), FaceBook(21), Marks & Spencer(22), BHP Biliton(23), Ferrari(24)\n",
        "#MasterCard(25), Mercado Livre(26), Vale(27), Petrobrás(28), CVC Brasil(29), BitCoin(30), Ethereum(31), Gold Trust(32), Disney(33), Microsoft(34), NRGU US Big Oil(35)\n",
        "#GOOGle (36), Heico(37), Pepsi(38), Molecular(39), BerkShire(40), Cisco(41)\n",
        "\n",
        "\n",
        "\n",
        "df1 = pdr.DataReader(lista_ativos[5], 'yahoo', start, end)\n",
        "df1"
      ],
      "execution_count": 4,
      "outputs": [
        {
          "output_type": "execute_result",
          "data": {
            "text/html": [
              "\n",
              "  <div id=\"df-1d88eaa5-b377-4fac-8ead-f477c538033b\">\n",
              "    <div class=\"colab-df-container\">\n",
              "      <div>\n",
              "<style scoped>\n",
              "    .dataframe tbody tr th:only-of-type {\n",
              "        vertical-align: middle;\n",
              "    }\n",
              "\n",
              "    .dataframe tbody tr th {\n",
              "        vertical-align: top;\n",
              "    }\n",
              "\n",
              "    .dataframe thead th {\n",
              "        text-align: right;\n",
              "    }\n",
              "</style>\n",
              "<table border=\"1\" class=\"dataframe\">\n",
              "  <thead>\n",
              "    <tr style=\"text-align: right;\">\n",
              "      <th></th>\n",
              "      <th>High</th>\n",
              "      <th>Low</th>\n",
              "      <th>Open</th>\n",
              "      <th>Close</th>\n",
              "      <th>Volume</th>\n",
              "      <th>Adj Close</th>\n",
              "    </tr>\n",
              "    <tr>\n",
              "      <th>Date</th>\n",
              "      <th></th>\n",
              "      <th></th>\n",
              "      <th></th>\n",
              "      <th></th>\n",
              "      <th></th>\n",
              "      <th></th>\n",
              "    </tr>\n",
              "  </thead>\n",
              "  <tbody>\n",
              "    <tr>\n",
              "      <th>2009-07-01</th>\n",
              "      <td>4.050000</td>\n",
              "      <td>3.880000</td>\n",
              "      <td>3.930000</td>\n",
              "      <td>3.910000</td>\n",
              "      <td>25970300</td>\n",
              "      <td>3.910000</td>\n",
              "    </tr>\n",
              "    <tr>\n",
              "      <th>2009-07-02</th>\n",
              "      <td>3.890000</td>\n",
              "      <td>3.760000</td>\n",
              "      <td>3.840000</td>\n",
              "      <td>3.780000</td>\n",
              "      <td>13415300</td>\n",
              "      <td>3.780000</td>\n",
              "    </tr>\n",
              "    <tr>\n",
              "      <th>2009-07-06</th>\n",
              "      <td>3.770000</td>\n",
              "      <td>3.500000</td>\n",
              "      <td>3.740000</td>\n",
              "      <td>3.550000</td>\n",
              "      <td>26785900</td>\n",
              "      <td>3.550000</td>\n",
              "    </tr>\n",
              "    <tr>\n",
              "      <th>2009-07-07</th>\n",
              "      <td>3.630000</td>\n",
              "      <td>3.350000</td>\n",
              "      <td>3.630000</td>\n",
              "      <td>3.430000</td>\n",
              "      <td>20511800</td>\n",
              "      <td>3.430000</td>\n",
              "    </tr>\n",
              "    <tr>\n",
              "      <th>2009-07-08</th>\n",
              "      <td>3.490000</td>\n",
              "      <td>3.220000</td>\n",
              "      <td>3.430000</td>\n",
              "      <td>3.360000</td>\n",
              "      <td>32725000</td>\n",
              "      <td>3.360000</td>\n",
              "    </tr>\n",
              "    <tr>\n",
              "      <th>...</th>\n",
              "      <td>...</td>\n",
              "      <td>...</td>\n",
              "      <td>...</td>\n",
              "      <td>...</td>\n",
              "      <td>...</td>\n",
              "      <td>...</td>\n",
              "    </tr>\n",
              "    <tr>\n",
              "      <th>2022-01-11</th>\n",
              "      <td>138.990005</td>\n",
              "      <td>131.589996</td>\n",
              "      <td>133.449997</td>\n",
              "      <td>137.309998</td>\n",
              "      <td>77153900</td>\n",
              "      <td>137.309998</td>\n",
              "    </tr>\n",
              "    <tr>\n",
              "      <th>2022-01-12</th>\n",
              "      <td>140.570007</td>\n",
              "      <td>135.770004</td>\n",
              "      <td>138.589996</td>\n",
              "      <td>137.470001</td>\n",
              "      <td>69669600</td>\n",
              "      <td>137.470001</td>\n",
              "    </tr>\n",
              "    <tr>\n",
              "      <th>2022-01-13</th>\n",
              "      <td>141.250000</td>\n",
              "      <td>131.809998</td>\n",
              "      <td>139.440002</td>\n",
              "      <td>132.740005</td>\n",
              "      <td>76618100</td>\n",
              "      <td>132.740005</td>\n",
              "    </tr>\n",
              "    <tr>\n",
              "      <th>2022-01-14</th>\n",
              "      <td>137.000000</td>\n",
              "      <td>131.429993</td>\n",
              "      <td>131.679993</td>\n",
              "      <td>136.880005</td>\n",
              "      <td>71032200</td>\n",
              "      <td>136.880005</td>\n",
              "    </tr>\n",
              "    <tr>\n",
              "      <th>2022-01-18</th>\n",
              "      <td>136.389999</td>\n",
              "      <td>131.589996</td>\n",
              "      <td>134.500000</td>\n",
              "      <td>131.929993</td>\n",
              "      <td>56527400</td>\n",
              "      <td>131.929993</td>\n",
              "    </tr>\n",
              "  </tbody>\n",
              "</table>\n",
              "<p>3160 rows × 6 columns</p>\n",
              "</div>\n",
              "      <button class=\"colab-df-convert\" onclick=\"convertToInteractive('df-1d88eaa5-b377-4fac-8ead-f477c538033b')\"\n",
              "              title=\"Convert this dataframe to an interactive table.\"\n",
              "              style=\"display:none;\">\n",
              "        \n",
              "  <svg xmlns=\"http://www.w3.org/2000/svg\" height=\"24px\"viewBox=\"0 0 24 24\"\n",
              "       width=\"24px\">\n",
              "    <path d=\"M0 0h24v24H0V0z\" fill=\"none\"/>\n",
              "    <path d=\"M18.56 5.44l.94 2.06.94-2.06 2.06-.94-2.06-.94-.94-2.06-.94 2.06-2.06.94zm-11 1L8.5 8.5l.94-2.06 2.06-.94-2.06-.94L8.5 2.5l-.94 2.06-2.06.94zm10 10l.94 2.06.94-2.06 2.06-.94-2.06-.94-.94-2.06-.94 2.06-2.06.94z\"/><path d=\"M17.41 7.96l-1.37-1.37c-.4-.4-.92-.59-1.43-.59-.52 0-1.04.2-1.43.59L10.3 9.45l-7.72 7.72c-.78.78-.78 2.05 0 2.83L4 21.41c.39.39.9.59 1.41.59.51 0 1.02-.2 1.41-.59l7.78-7.78 2.81-2.81c.8-.78.8-2.07 0-2.86zM5.41 20L4 18.59l7.72-7.72 1.47 1.35L5.41 20z\"/>\n",
              "  </svg>\n",
              "      </button>\n",
              "      \n",
              "  <style>\n",
              "    .colab-df-container {\n",
              "      display:flex;\n",
              "      flex-wrap:wrap;\n",
              "      gap: 12px;\n",
              "    }\n",
              "\n",
              "    .colab-df-convert {\n",
              "      background-color: #E8F0FE;\n",
              "      border: none;\n",
              "      border-radius: 50%;\n",
              "      cursor: pointer;\n",
              "      display: none;\n",
              "      fill: #1967D2;\n",
              "      height: 32px;\n",
              "      padding: 0 0 0 0;\n",
              "      width: 32px;\n",
              "    }\n",
              "\n",
              "    .colab-df-convert:hover {\n",
              "      background-color: #E2EBFA;\n",
              "      box-shadow: 0px 1px 2px rgba(60, 64, 67, 0.3), 0px 1px 3px 1px rgba(60, 64, 67, 0.15);\n",
              "      fill: #174EA6;\n",
              "    }\n",
              "\n",
              "    [theme=dark] .colab-df-convert {\n",
              "      background-color: #3B4455;\n",
              "      fill: #D2E3FC;\n",
              "    }\n",
              "\n",
              "    [theme=dark] .colab-df-convert:hover {\n",
              "      background-color: #434B5C;\n",
              "      box-shadow: 0px 1px 3px 1px rgba(0, 0, 0, 0.15);\n",
              "      filter: drop-shadow(0px 1px 2px rgba(0, 0, 0, 0.3));\n",
              "      fill: #FFFFFF;\n",
              "    }\n",
              "  </style>\n",
              "\n",
              "      <script>\n",
              "        const buttonEl =\n",
              "          document.querySelector('#df-1d88eaa5-b377-4fac-8ead-f477c538033b button.colab-df-convert');\n",
              "        buttonEl.style.display =\n",
              "          google.colab.kernel.accessAllowed ? 'block' : 'none';\n",
              "\n",
              "        async function convertToInteractive(key) {\n",
              "          const element = document.querySelector('#df-1d88eaa5-b377-4fac-8ead-f477c538033b');\n",
              "          const dataTable =\n",
              "            await google.colab.kernel.invokeFunction('convertToInteractive',\n",
              "                                                     [key], {});\n",
              "          if (!dataTable) return;\n",
              "\n",
              "          const docLinkHtml = 'Like what you see? Visit the ' +\n",
              "            '<a target=\"_blank\" href=https://colab.research.google.com/notebooks/data_table.ipynb>data table notebook</a>'\n",
              "            + ' to learn more about interactive tables.';\n",
              "          element.innerHTML = '';\n",
              "          dataTable['output_type'] = 'display_data';\n",
              "          await google.colab.output.renderOutput(dataTable, element);\n",
              "          const docLink = document.createElement('div');\n",
              "          docLink.innerHTML = docLinkHtml;\n",
              "          element.appendChild(docLink);\n",
              "        }\n",
              "      </script>\n",
              "    </div>\n",
              "  </div>\n",
              "  "
            ],
            "text/plain": [
              "                  High         Low  ...    Volume   Adj Close\n",
              "Date                                ...                      \n",
              "2009-07-01    4.050000    3.880000  ...  25970300    3.910000\n",
              "2009-07-02    3.890000    3.760000  ...  13415300    3.780000\n",
              "2009-07-06    3.770000    3.500000  ...  26785900    3.550000\n",
              "2009-07-07    3.630000    3.350000  ...  20511800    3.430000\n",
              "2009-07-08    3.490000    3.220000  ...  32725000    3.360000\n",
              "...                ...         ...  ...       ...         ...\n",
              "2022-01-11  138.990005  131.589996  ...  77153900  137.309998\n",
              "2022-01-12  140.570007  135.770004  ...  69669600  137.470001\n",
              "2022-01-13  141.250000  131.809998  ...  76618100  132.740005\n",
              "2022-01-14  137.000000  131.429993  ...  71032200  136.880005\n",
              "2022-01-18  136.389999  131.589996  ...  56527400  131.929993\n",
              "\n",
              "[3160 rows x 6 columns]"
            ]
          },
          "metadata": {},
          "execution_count": 4
        }
      ]
    },
    {
      "cell_type": "code",
      "metadata": {
        "colab": {
          "base_uri": "https://localhost:8080/"
        },
        "id": "3m4vEl82ayJe",
        "outputId": "2ac79edf-4b1f-487f-9c82-8e3849b6c08f"
      },
      "source": [
        "#calculando a máxima e a mínima nos últimos 90 dias:\n",
        "delta = end - timedelta(90)\n",
        "new_db = df1[delta : end]\n",
        "\n",
        "print('Max Close Price', new_db.Close.max())\n",
        "print('Min Close Price', new_db.Close.min())\n",
        "print('Mean Close Price', new_db.Close.mean())"
      ],
      "execution_count": 5,
      "outputs": [
        {
          "output_type": "stream",
          "name": "stdout",
          "text": [
            "Max Close Price 161.91000366210938\n",
            "Min Close Price 116.38999938964844\n",
            "Mean Close Price 140.5608063974688\n"
          ]
        }
      ]
    },
    {
      "cell_type": "code",
      "metadata": {
        "id": "ku5z4p9ycTiA"
      },
      "source": [
        "import math\n",
        "from sklearn.preprocessing import MinMaxScaler\n",
        "from keras.models import Sequential\n",
        "from keras.layers import Dense, LSTM\n",
        "import matplotlib.pyplot as plt"
      ],
      "execution_count": 6,
      "outputs": []
    },
    {
      "cell_type": "code",
      "metadata": {
        "colab": {
          "base_uri": "https://localhost:8080/",
          "height": 513
        },
        "id": "ymzK6o68dKdW",
        "outputId": "6e1b7fde-de83-4a98-89bb-823a82ee4268"
      },
      "source": [
        "#max Close price history\n",
        "plt.figure(figsize=(16, 8))\n",
        "plt.title(\"Max Close Price History\")\n",
        "plt.plot(df1['Close'])\n",
        "plt.xlabel('Date')\n",
        "plt.ylabel('Price')\n",
        "plt.show()"
      ],
      "execution_count": 7,
      "outputs": [
        {
          "output_type": "display_data",
          "data": {
            "image/png": "[encoded data removed]",
            "text/plain": [
              "<Figure size 1152x576 with 1 Axes>"
            ]
          },
          "metadata": {
            "needs_background": "light"
          }
        }
      ]
    },
    {
      "cell_type": "code",
      "metadata": {
        "colab": {
          "base_uri": "https://localhost:8080/"
        },
        "id": "e44y4Dq6fE6N",
        "outputId": "35650cca-a168-4691-adc9-58bc4b1b5f65"
      },
      "source": [
        "#novo df com apenas a coluna de fechamento:\n",
        "data = df1.filter(['Close'])\n",
        "#converter para array\n",
        "dataset = data.values\n",
        "#pegar o numero de linhas para treinar o modelo:\n",
        "training_data_len = math.ceil(len(dataset) * .90) #arredondar com math.ceil\n",
        "#printando o tamanho de linhas do treino:\n",
        "training_data_len"
      ],
      "execution_count": 8,
      "outputs": [
        {
          "output_type": "execute_result",
          "data": {
            "text/plain": [
              "2844"
            ]
          },
          "metadata": {},
          "execution_count": 8
        }
      ]
    },
    {
      "cell_type": "code",
      "metadata": {
        "colab": {
          "base_uri": "https://localhost:8080/"
        },
        "id": "tPbVU1pRgbNq",
        "outputId": "ff7baf32-8ec7-4d3b-a0f1-c61271316322"
      },
      "source": [
        "#Escalar os dados (padrão):\n",
        "scaler = MinMaxScaler(feature_range=(0,1)) #escala entre 0 e 1\n",
        "scaled_data = scaler.fit_transform(dataset)\n",
        "\n",
        "scaled_data"
      ],
      "execution_count": 9,
      "outputs": [
        {
          "output_type": "execute_result",
          "data": {
            "text/plain": [
              "array([[0.01428661],\n",
              "       [0.01347558],\n",
              "       [0.01204068],\n",
              "       ...,\n",
              "       [0.81801736],\n",
              "       [0.84384554],\n",
              "       [0.81296394]])"
            ]
          },
          "metadata": {},
          "execution_count": 9
        }
      ]
    },
    {
      "cell_type": "code",
      "metadata": {
        "colab": {
          "base_uri": "https://localhost:8080/"
        },
        "id": "eungzycBhmLC",
        "outputId": "4af0c4c2-b745-429f-a334-031890008a62"
      },
      "source": [
        "#create the training dataset\n",
        "#create the scaled dataset\n",
        "train_data = scaled_data[0:training_data_len , :]\n",
        "#split the data in x and y:\n",
        "x_train = []  #independent training\n",
        "y_train = []  #target\n",
        "\n",
        "for i in range(60, len(train_data)):\n",
        "  x_train.append(train_data[i-60:i, 0])\n",
        "  y_train.append(train_data[i, 0])\n",
        "  if i <= 61:\n",
        "    print(x_train)\n",
        "    print(y_train)\n",
        "    print()"
      ],
      "execution_count": 10,
      "outputs": [
        {
          "output_type": "stream",
          "name": "stdout",
          "text": [
            "[array([0.01428661, 0.01347558, 0.01204068, 0.01129203, 0.01085532,\n",
            "       0.01160397, 0.01166635, 0.01210306, 0.01204068, 0.01397467,\n",
            "       0.01434899, 0.01484809, 0.01590867, 0.01534718, 0.01204068,\n",
            "       0.01229022, 0.01341319, 0.01360035, 0.01341319, 0.01303887,\n",
            "       0.01272693, 0.01272693, 0.01322603, 0.0133508 , 0.01328841,\n",
            "       0.01303887, 0.01297648, 0.01285171, 0.01229022, 0.01229022,\n",
            "       0.01285171, 0.01291409, 0.01204068, 0.01210306, 0.01185352,\n",
            "       0.01185352, 0.01297648, 0.01484809, 0.01497286, 0.01522241,\n",
            "       0.01628299, 0.01778027, 0.01709402, 0.0162206 , 0.01659492,\n",
            "       0.0181546 , 0.0181546 , 0.02227213, 0.02233452, 0.02345748,\n",
            "       0.02532909, 0.02557864, 0.02657683, 0.02539148, 0.0252667 ,\n",
            "       0.02545386, 0.02614012, 0.02782457, 0.02745025, 0.02520432])]\n",
            "[0.02626489377302396]\n",
            "\n",
            "[array([0.01428661, 0.01347558, 0.01204068, 0.01129203, 0.01085532,\n",
            "       0.01160397, 0.01166635, 0.01210306, 0.01204068, 0.01397467,\n",
            "       0.01434899, 0.01484809, 0.01590867, 0.01534718, 0.01204068,\n",
            "       0.01229022, 0.01341319, 0.01360035, 0.01341319, 0.01303887,\n",
            "       0.01272693, 0.01272693, 0.01322603, 0.0133508 , 0.01328841,\n",
            "       0.01303887, 0.01297648, 0.01285171, 0.01229022, 0.01229022,\n",
            "       0.01285171, 0.01291409, 0.01204068, 0.01210306, 0.01185352,\n",
            "       0.01185352, 0.01297648, 0.01484809, 0.01497286, 0.01522241,\n",
            "       0.01628299, 0.01778027, 0.01709402, 0.0162206 , 0.01659492,\n",
            "       0.0181546 , 0.0181546 , 0.02227213, 0.02233452, 0.02345748,\n",
            "       0.02532909, 0.02557864, 0.02657683, 0.02539148, 0.0252667 ,\n",
            "       0.02545386, 0.02614012, 0.02782457, 0.02745025, 0.02520432]), array([0.01347558, 0.01204068, 0.01129203, 0.01085532, 0.01160397,\n",
            "       0.01166635, 0.01210306, 0.01204068, 0.01397467, 0.01434899,\n",
            "       0.01484809, 0.01590867, 0.01534718, 0.01204068, 0.01229022,\n",
            "       0.01341319, 0.01360035, 0.01341319, 0.01303887, 0.01272693,\n",
            "       0.01272693, 0.01322603, 0.0133508 , 0.01328841, 0.01303887,\n",
            "       0.01297648, 0.01285171, 0.01229022, 0.01229022, 0.01285171,\n",
            "       0.01291409, 0.01204068, 0.01210306, 0.01185352, 0.01185352,\n",
            "       0.01297648, 0.01484809, 0.01497286, 0.01522241, 0.01628299,\n",
            "       0.01778027, 0.01709402, 0.0162206 , 0.01659492, 0.0181546 ,\n",
            "       0.0181546 , 0.02227213, 0.02233452, 0.02345748, 0.02532909,\n",
            "       0.02557864, 0.02657683, 0.02539148, 0.0252667 , 0.02545386,\n",
            "       0.02614012, 0.02782457, 0.02745025, 0.02520432, 0.02626489])]\n",
            "[0.02626489377302396, 0.026951150751029624]\n",
            "\n"
          ]
        }
      ]
    },
    {
      "cell_type": "code",
      "metadata": {
        "id": "v6iMCLWakP7v"
      },
      "source": [
        "#converter os treinos para numpy arrays para treinar o LSTM\n",
        "x_train, y_train = np.array(x_train), np.array(y_train)"
      ],
      "execution_count": 11,
      "outputs": []
    },
    {
      "cell_type": "code",
      "metadata": {
        "colab": {
          "base_uri": "https://localhost:8080/"
        },
        "id": "7hyk9dtdkqNr",
        "outputId": "72ee133f-4ee6-442f-84a3-ba83a9dfa3ab"
      },
      "source": [
        "#reshape the data to the LSTM\n",
        "x_train = np.reshape(x_train, (x_train.shape[0], x_train.shape[1], 1))\n",
        "x_train.shape"
      ],
      "execution_count": 12,
      "outputs": [
        {
          "output_type": "execute_result",
          "data": {
            "text/plain": [
              "(2784, 60, 1)"
            ]
          },
          "metadata": {},
          "execution_count": 12
        }
      ]
    },
    {
      "cell_type": "markdown",
      "metadata": {
        "id": "zggCno3JlbeH"
      },
      "source": [
        "pronto, temos o dataset tridimensional"
      ]
    },
    {
      "cell_type": "code",
      "metadata": {
        "id": "dgR2CBislfi9"
      },
      "source": [
        "#Build the LSTM\n",
        "model = Sequential()\n",
        "model.add(LSTM(50, return_sequences=True, input_shape=(x_train.shape[1], 1)))\n",
        "model.add(LSTM(50, return_sequences=False))\n",
        "model.add(Dense(25))\n",
        "model.add(Dense(1))"
      ],
      "execution_count": 13,
      "outputs": []
    },
    {
      "cell_type": "code",
      "metadata": {
        "id": "xElsVLEUmX8P"
      },
      "source": [
        "#compile the model\n",
        "model.compile(optimizer='adam', loss='mean_squared_error')"
      ],
      "execution_count": 14,
      "outputs": []
    },
    {
      "cell_type": "code",
      "metadata": {
        "colab": {
          "base_uri": "https://localhost:8080/"
        },
        "id": "pn5nTPgmmuUw",
        "outputId": "2f37191b-f4da-4d27-ee5d-c74d7a3cedbe"
      },
      "source": [
        "#train the model:\n",
        "model.fit(x_train, y_train, batch_size=1, epochs=1)"
      ],
      "execution_count": 15,
      "outputs": [
        {
          "output_type": "stream",
          "name": "stdout",
          "text": [
            "2784/2784 [==============================] - 77s 27ms/step - loss: 4.1825e-04\n"
          ]
        },
        {
          "output_type": "execute_result",
          "data": {
            "text/plain": [
              "<keras.callbacks.History at 0x7fac023f30d0>"
            ]
          },
          "metadata": {},
          "execution_count": 15
        }
      ]
    },
    {
      "cell_type": "code",
      "metadata": {
        "id": "LulKzRIhnMR6"
      },
      "source": [
        "#create the testing dataset\n",
        "#create new array with scaled values from index x em diante\n",
        "test_data = scaled_data[training_data_len - 60: , :]\n",
        "#create the datasets x_test and y_test\n",
        "x_test = []\n",
        "y_test = dataset[training_data_len:, :] #todos os valores que queremos prever\n",
        "for i in range(60, len(test_data)):\n",
        "  x_test.append(test_data[i-60:i, 0])"
      ],
      "execution_count": 16,
      "outputs": []
    },
    {
      "cell_type": "code",
      "metadata": {
        "id": "TddJ8QAupIfX"
      },
      "source": [
        "#convert the data to numpy array:\n",
        "x_test = np.array(x_test) #novamente: convertendo para numpy array para usar no modelo LSTM"
      ],
      "execution_count": 17,
      "outputs": []
    },
    {
      "cell_type": "code",
      "metadata": {
        "id": "LirshaTNsTC6"
      },
      "source": [
        "#Reshape the data again:\n",
        "x_test = np.reshape(x_test, (x_test.shape[0], x_test.shape[1], 1)) #overall, timesteps, feature"
      ],
      "execution_count": 18,
      "outputs": []
    },
    {
      "cell_type": "code",
      "metadata": {
        "id": "31FY6ddws4Bz"
      },
      "source": [
        "#now, get the models predicted values:\n",
        "predictions = model.predict(x_test) #irá prever a exata mesma quantia de teste que está em y_test quando fazer a transform inversa\n",
        "predictions = scaler.inverse_transform(predictions) #mesmo que y_test dataset contém (é o que queremos), e temos essas previsões baseadas em x_test dataset"
      ],
      "execution_count": 19,
      "outputs": []
    },
    {
      "cell_type": "code",
      "metadata": {
        "colab": {
          "base_uri": "https://localhost:8080/"
        },
        "id": "ZbDSAMCH6Tab",
        "outputId": "1fdb0066-7596-4a98-f525-6727d764affb"
      },
      "source": [
        "#evaluate our model\n",
        "#get the root mean squared error RMSE\n",
        "rmse = np.sqrt(np.mean(predictions-y_test)**2)\n",
        "rmse"
      ],
      "execution_count": 20,
      "outputs": [
        {
          "output_type": "execute_result",
          "data": {
            "text/plain": [
              "2.370917018455795"
            ]
          },
          "metadata": {},
          "execution_count": 20
        }
      ]
    },
    {
      "cell_type": "code",
      "metadata": {
        "colab": {
          "base_uri": "https://localhost:8080/",
          "height": 625
        },
        "id": "2DAaUV9I9Ytp",
        "outputId": "365db60e-c4ea-4134-c707-4ea1ca25fc36"
      },
      "source": [
        "#Plot the data\n",
        "train = data[:training_data_len]\n",
        "valid = data[training_data_len:]\n",
        "valid['Predictions'] = predictions\n",
        "#visualize the data\n",
        "plt.figure(figsize=(16,8))\n",
        "plt.title('Model')\n",
        "plt.xlabel('Data', fontsize=18)\n",
        "plt.ylabel('Close Price')\n",
        "plt.plot(train['Close'])\n",
        "plt.plot(valid[['Close','Predictions']])\n",
        "plt.legend(['Train', 'Val', 'Predictions'], loc='lower right')\n",
        "plt.show()"
      ],
      "execution_count": 21,
      "outputs": [
        {
          "output_type": "stream",
          "name": "stderr",
          "text": [
            "/usr/local/lib/python3.7/dist-packages/ipykernel_launcher.py:4: SettingWithCopyWarning: \n",
            "A value is trying to be set on a copy of a slice from a DataFrame.\n",
            "Try using .loc[row_indexer,col_indexer] = value instead\n",
            "\n",
            "See the caveats in the documentation: https://pandas.pydata.org/pandas-docs/stable/user_guide/indexing.html#returning-a-view-versus-a-copy\n",
            "  after removing the cwd from sys.path.\n"
          ]
        },
        {
          "output_type": "display_data",
          "data": {
            "image/png": "[encoded data removed]",
            "text/plain": [
              "<Figure size 1152x576 with 1 Axes>"
            ]
          },
          "metadata": {
            "needs_background": "light"
          }
        }
      ]
    },
    {
      "cell_type": "code",
      "metadata": {
        "colab": {
          "base_uri": "https://localhost:8080/",
          "height": 455
        },
        "id": "8JhDoz-yAIoR",
        "outputId": "48d76041-7873-4b97-db10-bf527fa1df68"
      },
      "source": [
        "#show the valid and predicted prices\n",
        "valid"
      ],
      "execution_count": 22,
      "outputs": [
        {
          "output_type": "execute_result",
          "data": {
            "text/html": [
              "\n",
              "  <div id=\"df-71b40f1c-bb14-42a7-aae5-5250c277f175\">\n",
              "    <div class=\"colab-df-container\">\n",
              "      <div>\n",
              "<style scoped>\n",
              "    .dataframe tbody tr th:only-of-type {\n",
              "        vertical-align: middle;\n",
              "    }\n",
              "\n",
              "    .dataframe tbody tr th {\n",
              "        vertical-align: top;\n",
              "    }\n",
              "\n",
              "    .dataframe thead th {\n",
              "        text-align: right;\n",
              "    }\n",
              "</style>\n",
              "<table border=\"1\" class=\"dataframe\">\n",
              "  <thead>\n",
              "    <tr style=\"text-align: right;\">\n",
              "      <th></th>\n",
              "      <th>Close</th>\n",
              "      <th>Predictions</th>\n",
              "    </tr>\n",
              "    <tr>\n",
              "      <th>Date</th>\n",
              "      <th></th>\n",
              "      <th></th>\n",
              "    </tr>\n",
              "  </thead>\n",
              "  <tbody>\n",
              "    <tr>\n",
              "      <th>2020-10-16</th>\n",
              "      <td>83.169998</td>\n",
              "      <td>83.700890</td>\n",
              "    </tr>\n",
              "    <tr>\n",
              "      <th>2020-10-19</th>\n",
              "      <td>82.000000</td>\n",
              "      <td>83.334557</td>\n",
              "    </tr>\n",
              "    <tr>\n",
              "      <th>2020-10-20</th>\n",
              "      <td>81.559998</td>\n",
              "      <td>82.856873</td>\n",
              "    </tr>\n",
              "    <tr>\n",
              "      <th>2020-10-21</th>\n",
              "      <td>79.199997</td>\n",
              "      <td>82.344826</td>\n",
              "    </tr>\n",
              "    <tr>\n",
              "      <th>2020-10-22</th>\n",
              "      <td>79.419998</td>\n",
              "      <td>81.553024</td>\n",
              "    </tr>\n",
              "    <tr>\n",
              "      <th>...</th>\n",
              "      <td>...</td>\n",
              "      <td>...</td>\n",
              "    </tr>\n",
              "    <tr>\n",
              "      <th>2022-01-11</th>\n",
              "      <td>137.309998</td>\n",
              "      <td>130.703369</td>\n",
              "    </tr>\n",
              "    <tr>\n",
              "      <th>2022-01-12</th>\n",
              "      <td>137.470001</td>\n",
              "      <td>129.796844</td>\n",
              "    </tr>\n",
              "    <tr>\n",
              "      <th>2022-01-13</th>\n",
              "      <td>132.740005</td>\n",
              "      <td>129.786926</td>\n",
              "    </tr>\n",
              "    <tr>\n",
              "      <th>2022-01-14</th>\n",
              "      <td>136.880005</td>\n",
              "      <td>129.549362</td>\n",
              "    </tr>\n",
              "    <tr>\n",
              "      <th>2022-01-18</th>\n",
              "      <td>131.929993</td>\n",
              "      <td>129.911255</td>\n",
              "    </tr>\n",
              "  </tbody>\n",
              "</table>\n",
              "<p>316 rows × 2 columns</p>\n",
              "</div>\n",
              "      <button class=\"colab-df-convert\" onclick=\"convertToInteractive('df-71b40f1c-bb14-42a7-aae5-5250c277f175')\"\n",
              "              title=\"Convert this dataframe to an interactive table.\"\n",
              "              style=\"display:none;\">\n",
              "        \n",
              "  <svg xmlns=\"http://www.w3.org/2000/svg\" height=\"24px\"viewBox=\"0 0 24 24\"\n",
              "       width=\"24px\">\n",
              "    <path d=\"M0 0h24v24H0V0z\" fill=\"none\"/>\n",
              "    <path d=\"M18.56 5.44l.94 2.06.94-2.06 2.06-.94-2.06-.94-.94-2.06-.94 2.06-2.06.94zm-11 1L8.5 8.5l.94-2.06 2.06-.94-2.06-.94L8.5 2.5l-.94 2.06-2.06.94zm10 10l.94 2.06.94-2.06 2.06-.94-2.06-.94-.94-2.06-.94 2.06-2.06.94z\"/><path d=\"M17.41 7.96l-1.37-1.37c-.4-.4-.92-.59-1.43-.59-.52 0-1.04.2-1.43.59L10.3 9.45l-7.72 7.72c-.78.78-.78 2.05 0 2.83L4 21.41c.39.39.9.59 1.41.59.51 0 1.02-.2 1.41-.59l7.78-7.78 2.81-2.81c.8-.78.8-2.07 0-2.86zM5.41 20L4 18.59l7.72-7.72 1.47 1.35L5.41 20z\"/>\n",
              "  </svg>\n",
              "      </button>\n",
              "      \n",
              "  <style>\n",
              "    .colab-df-container {\n",
              "      display:flex;\n",
              "      flex-wrap:wrap;\n",
              "      gap: 12px;\n",
              "    }\n",
              "\n",
              "    .colab-df-convert {\n",
              "      background-color: #E8F0FE;\n",
              "      border: none;\n",
              "      border-radius: 50%;\n",
              "      cursor: pointer;\n",
              "      display: none;\n",
              "      fill: #1967D2;\n",
              "      height: 32px;\n",
              "      padding: 0 0 0 0;\n",
              "      width: 32px;\n",
              "    }\n",
              "\n",
              "    .colab-df-convert:hover {\n",
              "      background-color: #E2EBFA;\n",
              "      box-shadow: 0px 1px 2px rgba(60, 64, 67, 0.3), 0px 1px 3px 1px rgba(60, 64, 67, 0.15);\n",
              "      fill: #174EA6;\n",
              "    }\n",
              "\n",
              "    [theme=dark] .colab-df-convert {\n",
              "      background-color: #3B4455;\n",
              "      fill: #D2E3FC;\n",
              "    }\n",
              "\n",
              "    [theme=dark] .colab-df-convert:hover {\n",
              "      background-color: #434B5C;\n",
              "      box-shadow: 0px 1px 3px 1px rgba(0, 0, 0, 0.15);\n",
              "      filter: drop-shadow(0px 1px 2px rgba(0, 0, 0, 0.3));\n",
              "      fill: #FFFFFF;\n",
              "    }\n",
              "  </style>\n",
              "\n",
              "      <script>\n",
              "        const buttonEl =\n",
              "          document.querySelector('#df-71b40f1c-bb14-42a7-aae5-5250c277f175 button.colab-df-convert');\n",
              "        buttonEl.style.display =\n",
              "          google.colab.kernel.accessAllowed ? 'block' : 'none';\n",
              "\n",
              "        async function convertToInteractive(key) {\n",
              "          const element = document.querySelector('#df-71b40f1c-bb14-42a7-aae5-5250c277f175');\n",
              "          const dataTable =\n",
              "            await google.colab.kernel.invokeFunction('convertToInteractive',\n",
              "                                                     [key], {});\n",
              "          if (!dataTable) return;\n",
              "\n",
              "          const docLinkHtml = 'Like what you see? Visit the ' +\n",
              "            '<a target=\"_blank\" href=https://colab.research.google.com/notebooks/data_table.ipynb>data table notebook</a>'\n",
              "            + ' to learn more about interactive tables.';\n",
              "          element.innerHTML = '';\n",
              "          dataTable['output_type'] = 'display_data';\n",
              "          await google.colab.output.renderOutput(dataTable, element);\n",
              "          const docLink = document.createElement('div');\n",
              "          docLink.innerHTML = docLinkHtml;\n",
              "          element.appendChild(docLink);\n",
              "        }\n",
              "      </script>\n",
              "    </div>\n",
              "  </div>\n",
              "  "
            ],
            "text/plain": [
              "                 Close  Predictions\n",
              "Date                               \n",
              "2020-10-16   83.169998    83.700890\n",
              "2020-10-19   82.000000    83.334557\n",
              "2020-10-20   81.559998    82.856873\n",
              "2020-10-21   79.199997    82.344826\n",
              "2020-10-22   79.419998    81.553024\n",
              "...                ...          ...\n",
              "2022-01-11  137.309998   130.703369\n",
              "2022-01-12  137.470001   129.796844\n",
              "2022-01-13  132.740005   129.786926\n",
              "2022-01-14  136.880005   129.549362\n",
              "2022-01-18  131.929993   129.911255\n",
              "\n",
              "[316 rows x 2 columns]"
            ]
          },
          "metadata": {},
          "execution_count": 22
        }
      ]
    },
    {
      "cell_type": "code",
      "metadata": {
        "colab": {
          "base_uri": "https://localhost:8080/"
        },
        "id": "Ofx4gzDqAa-M",
        "outputId": "980a2e25-65ca-4a3a-8288-11ad33f4962a"
      },
      "source": [
        "#Get the price\n",
        "test_price = pdr.DataReader(lista_ativos[5], 'yahoo', start='2009-07-01', end='2022-01-18')\n",
        "teste_df = test_price.filter(['Close'])\n",
        "#pegar os ultimos 60 dias\n",
        "last_60 = teste_df[-60:].values\n",
        "#escalando entre 0 e 1\n",
        "last_60 = scaler.transform(last_60)\n",
        "x2_teste = []\n",
        "x2_teste.append(last_60)\n",
        "#convert to numpy array\n",
        "x2_teste = np.array(x2_teste)\n",
        "#Reshape data\n",
        "x2_teste = np.reshape(x2_teste, (x2_teste.shape[0], x2_teste.shape[1], 1))\n",
        "#pega a previsão\n",
        "pred_price = model.predict(x2_teste)\n",
        "#undo scaling\n",
        "pred_price = scaler.inverse_transform(pred_price)\n",
        "print(pred_price)"
      ],
      "execution_count": 23,
      "outputs": [
        {
          "output_type": "stream",
          "name": "stdout",
          "text": [
            "[[129.72665]]\n"
          ]
        }
      ]
    },
    {
      "cell_type": "code",
      "metadata": {
        "id": "3cNBAB1tfuBk"
      },
      "source": [
        "test_price = pdr.DataReader(lista_ativos[5], 'yahoo', start='2009-07-01', end='2022-01-03')\n",
        "teste_df = test_price.filter(['Close'])\n",
        "teste_df.loc[datetime(2022, 1, 4)] = 35.284911\n",
        "teste_df.loc[datetime(2022, 1, 5)] = 35.518165\n",
        "teste_df #append pred()"
      ],
      "execution_count": null,
      "outputs": []
    },
    {
      "cell_type": "code",
      "metadata": {
        "id": "PMLNaEJfjiQi"
      },
      "source": [
        "#predict longer:\n",
        "last_60 = teste_df[-60:].values\n",
        "#escalando entre 0 e 1\n",
        "last_60 = scaler.transform(last_60)\n",
        "x2_teste = []\n",
        "x2_teste.append(last_60)\n",
        "#convert to numpy array\n",
        "x2_teste = np.array(x2_teste)\n",
        "#Reshape data\n",
        "x2_teste = np.reshape(x2_teste, (x2_teste.shape[0], x2_teste.shape[1], 1))\n",
        "#pega a previsão\n",
        "pred_price = model.predict(x2_teste)\n",
        "#undo scaling\n",
        "pred_price = scaler.inverse_transform(pred_price)\n",
        "#pred_price_correct = pred_price * 1.044 quando for necessário constante\n",
        "print(pred_price)"
      ],
      "execution_count": null,
      "outputs": []
    },
    {
      "cell_type": "code",
      "metadata": {
        "id": "uBdwdDInclWw"
      },
      "source": [
        "#montando df com previsões:\n",
        "pred_list = [16.896195, 17.096256, 17.359417, 17.65908, 17.980675, 18.316181]\n",
        "pred_df = pd.DataFrame(pred_list)\n",
        "pred_df = pred_df.rename(columns={ 0 : 'Predictions' })\n",
        "pred_df"
      ],
      "execution_count": null,
      "outputs": []
    },
    {
      "cell_type": "code",
      "metadata": {
        "colab": {
          "base_uri": "https://localhost:8080/"
        },
        "id": "qZfauEDnGBJy",
        "outputId": "df2abf30-2e27-43e7-fcbb-bffca02a0a0f"
      },
      "source": [
        "#vendo o preço de previous stocks:\n",
        "#Get the price\n",
        "test_price_final = pdr.DataReader(lista_ativos[5], 'yahoo', start='2009-11-4', end='2022-01-18')\n",
        "print(test_price_final['Close'])"
      ],
      "execution_count": 25,
      "outputs": [
        {
          "output_type": "stream",
          "name": "stdout",
          "text": [
            "Date\n",
            "2009-11-04      4.690000\n",
            "2009-11-05      4.830000\n",
            "2009-11-06      5.040000\n",
            "2009-11-09      5.210000\n",
            "2009-11-10      5.140000\n",
            "                 ...    \n",
            "2022-01-11    137.309998\n",
            "2022-01-12    137.470001\n",
            "2022-01-13    132.740005\n",
            "2022-01-14    136.880005\n",
            "2022-01-18    131.929993\n",
            "Name: Close, Length: 3072, dtype: float64\n"
          ]
        }
      ]
    },
    {
      "cell_type": "code",
      "metadata": {
        "id": "8T-xGeBQ4IEd"
      },
      "source": [
        "#estimando o preço (para Close maior que prediction)\n",
        "Price_k = valid.Close[-1::] / valid.Predictions[-1::]\n",
        "Price = Price_k * pred_price[0]\n",
        "Price"
      ],
      "execution_count": null,
      "outputs": []
    },
    {
      "cell_type": "code",
      "metadata": {
        "id": "mPDZfgs173Ai"
      },
      "source": [
        "#cálculo de valorização em % (com rmse)\n",
        "delta_apreciation = Price - valid.Close[-1::]\n",
        "percentage = delta_apreciation * 100\n",
        "final_percentage = percentage / Price\n",
        "final_percentage"
      ],
      "execution_count": null,
      "outputs": []
    },
    {
      "cell_type": "code",
      "metadata": {
        "id": "J7ZOB0nTVmpJ"
      },
      "source": [
        "#cálculo de valorização sem rmse (rmse apróx de 0):\n",
        "delta_vlrz = pred_price[0] - valid.Close[-1::]\n",
        "valorization = delta_vlrz * 100\n",
        "final_val = valorization / valid.Close[-1::]\n",
        "final_val"
      ],
      "execution_count": null,
      "outputs": []
    },
    {
      "cell_type": "code",
      "metadata": {
        "id": "nxjEsmYeEaBE",
        "colab": {
          "base_uri": "https://localhost:8080/"
        },
        "outputId": "390dd719-dd26-4645-f0cb-abc980e5bdb0"
      },
      "source": [
        "#estimando o preço (pred > Close)\n",
        "Price_k = valid.Predictions[-1::] / valid.Close[-1::]\n",
        "Price = Price_k * pred_price[0]\n",
        "Price"
      ],
      "execution_count": 26,
      "outputs": [
        {
          "output_type": "execute_result",
          "data": {
            "text/plain": [
              "Date\n",
              "2022-01-18    127.741631\n",
              "dtype: float64"
            ]
          },
          "metadata": {},
          "execution_count": 26
        }
      ]
    },
    {
      "cell_type": "code",
      "metadata": {
        "id": "84nQBjHvEoEI",
        "colab": {
          "base_uri": "https://localhost:8080/"
        },
        "outputId": "771afa55-9247-49bc-da73-c10e83368e3e"
      },
      "source": [
        "#cálculo de valorização em %\n",
        "delta_apreciation = Price - valid.Close[-1::]\n",
        "percentage = delta_apreciation * 100\n",
        "final_percentage = percentage / Price\n",
        "final_percentage"
      ],
      "execution_count": 27,
      "outputs": [
        {
          "output_type": "execute_result",
          "data": {
            "text/plain": [
              "Date\n",
              "2022-01-18   -3.278776\n",
              "dtype: float64"
            ]
          },
          "metadata": {},
          "execution_count": 27
        }
      ]
    },
    {
      "cell_type": "markdown",
      "source": [
        "## No pregão do dia 19 fechou com 128, previsão com 99.81% de precisão como apontado pelo rmse..."
      ],
      "metadata": {
        "id": "nU0DGlECc5cm"
      }
    }
  ]
}